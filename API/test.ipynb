{
 "cells": [
  {
   "cell_type": "code",
   "execution_count": 1,
   "metadata": {},
   "outputs": [],
   "source": [
    "M = 3\n",
    "N = 4\n",
    "\n",
    "numOfPorts = 4\n",
    "maxlength = 5\n",
    "\n",
    "configMap = [\n",
    "    [\"A1\", \"B1\", \"C1\", \"D1\"],\n",
    "    [\"A2\", \"B2\", \"C2\", \"C5\"],\n",
    "    [\"A3\", \"A4\", \"C3\", \"C4\"],\n",
    "]\n"
   ]
  },
  {
   "cell_type": "code",
   "execution_count": 2,
   "metadata": {},
   "outputs": [],
   "source": [
    "import numpy as np\n",
    "\n",
    "def getPortIndex(code: str) -> int:\n",
    "    return ord(code[0]) - ord(\"A\")\n",
    "\n",
    "def returnHardwareMatrix(unity: np.ndarray) -> np.ndarray:\n",
    "    global M, N, numOfPorts, maxlength, unityToHardware\n",
    "    hardwareMatrix = np.zeros((maxlength, numOfPorts), dtype=tuple)\n",
    "    hardwareMatrix.fill(None)\n",
    "    \n",
    "    for i in range(M):\n",
    "        for j in range(N):\n",
    "            hardwareMatrix[unityToHardware[i, j]] = unity[i, j]\n",
    "\n",
    "    return hardwareMatrix\n",
    "\n",
    "def returnUnityMatrix(hardware: np.ndarray) -> np.ndarray:\n",
    "    global M, N, numOfPorts, maxlength, hardwareToUnity\n",
    "    unityMatrix = np.zeros((M, N), dtype=tuple)\n",
    "    unityMatrix.fill(None)\n",
    "    \n",
    "    for i in range(maxlength):\n",
    "        for j in range(numOfPorts):\n",
    "            if hardwareToUnity[i, j] is not None:\n",
    "                unityMatrix[hardwareToUnity[i, j]] = hardware[i, j]\n",
    "\n",
    "    return unityMatrix\n",
    "\n",
    "unityToHardware = np.zeros((M, N), dtype=tuple)\n",
    "hardwareToUnity = np.zeros(( maxlength, numOfPorts), dtype=tuple)\n",
    "hardwareToUnity.fill(None)\n",
    "for i in range(M):\n",
    "    for j in range(N):\n",
    "        unityToHardware[i, j] = (int(configMap[i][j][1:])-1, getPortIndex(configMap[i][j]))\n",
    "        hardwareToUnity[int(configMap[i][j][1:])-1, getPortIndex(configMap[i][j])] = (i, j)\n"
   ]
  },
  {
   "cell_type": "code",
   "execution_count": 3,
   "metadata": {},
   "outputs": [
    {
     "name": "stdout",
     "output_type": "stream",
     "text": [
      "test_unity:\n",
      " [[ 0  1  2  3]\n",
      " [ 4  5  6  7]\n",
      " [ 8  9 10 11]]\n",
      "returnHardwareMatrix:\n",
      " [[0 1 2 3]\n",
      " [4 5 6 None]\n",
      " [8 None 10 None]\n",
      " [9 None 11 None]\n",
      " [None None 7 None]]\n",
      "\n",
      "test_hardware:\n",
      " [[ 0  1  2  3]\n",
      " [ 4  5  6  7]\n",
      " [ 8  9 10 11]\n",
      " [12 13 14 15]\n",
      " [16 17 18 19]]\n",
      "returnUnityMatrix:\n",
      " [[0 1 2 3]\n",
      " [4 5 6 18]\n",
      " [8 12 10 14]]\n"
     ]
    }
   ],
   "source": [
    "test_unity = np.arange(M*N).reshape(M, N)\n",
    "print(\"test_unity:\\n\", test_unity)\n",
    "print(\"returnHardwareMatrix:\\n\", returnHardwareMatrix(test_unity))\n",
    "print()\n",
    "\n",
    "test_hardware = np.arange(maxlength*numOfPorts).reshape(maxlength, numOfPorts)\n",
    "print(\"test_hardware:\\n\", test_hardware)\n",
    "print(\"returnUnityMatrix:\\n\", returnUnityMatrix(test_hardware))"
   ]
  }
 ],
 "metadata": {
  "kernelspec": {
   "display_name": "py3",
   "language": "python",
   "name": "python3"
  },
  "language_info": {
   "codemirror_mode": {
    "name": "ipython",
    "version": 3
   },
   "file_extension": ".py",
   "mimetype": "text/x-python",
   "name": "python",
   "nbconvert_exporter": "python",
   "pygments_lexer": "ipython3",
   "version": "3.10.11"
  }
 },
 "nbformat": 4,
 "nbformat_minor": 2
}
